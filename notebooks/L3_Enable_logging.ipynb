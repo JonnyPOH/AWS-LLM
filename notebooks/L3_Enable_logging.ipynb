{
 "cells": [
  {
   "cell_type": "markdown",
   "id": "cc6b7b9f-a75d-4b78-930f-26d2343ac2c2",
   "metadata": {},
   "source": [
    "# Lesson 3: Enable Logging"
   ]
  },
  {
   "cell_type": "markdown",
   "id": "06fc5839-0b4b-42a3-9aaf-99a97e347955",
   "metadata": {},
   "source": [
    "### Import all needed packages"
   ]
  },
  {
   "cell_type": "code",
   "execution_count": 9,
   "id": "63cf31e4",
   "metadata": {
    "height": 98
   },
   "outputs": [],
   "source": [
    "import boto3\n",
    "import json\n",
    "import os\n",
    "\n",
    "bedrock = boto3.client('bedrock', region_name=\"us-west-2\")"
   ]
  },
  {
   "cell_type": "code",
   "execution_count": 10,
   "id": "bce75f75",
   "metadata": {},
   "outputs": [],
   "source": [
    "os.chdir(\"..\")"
   ]
  },
  {
   "cell_type": "code",
   "execution_count": 11,
   "id": "e5d9e31b",
   "metadata": {
    "height": 47
   },
   "outputs": [],
   "source": [
    "from helpers.CloudWatchHelper import CloudWatch_Helper\n",
    "cloudwatch = CloudWatch_Helper()"
   ]
  },
  {
   "cell_type": "code",
   "execution_count": 29,
   "id": "87a30e7e",
   "metadata": {
    "height": 30
   },
   "outputs": [],
   "source": [
    "log_group_name = '/my/amazon/bedrock/logs'"
   ]
  },
  {
   "cell_type": "code",
   "execution_count": 34,
   "id": "2461a51c",
   "metadata": {
    "height": 30
   },
   "outputs": [
    {
     "name": "stdout",
     "output_type": "stream",
     "text": [
      "Log group '/my/amazon/bedrock/logs' already exists.\n"
     ]
    }
   ],
   "source": [
    "cloudwatch.create_log_group(log_group_name)"
   ]
  },
  {
   "cell_type": "code",
   "execution_count": 35,
   "id": "f6c3c425",
   "metadata": {},
   "outputs": [],
   "source": [
    "os.environ['LOGGING_ROLE_ARN'] = 'arn:aws:iam::637423214227:role/DLAITestingIAMRoleStack-MyIAMRole-dxN355NlNybH'\n",
    "# os.environ['LOGGING_ROLE_ARN'] = 'arn:aws:iam::637423214227:user/j_po'\n",
    "# os.environ['LOGGING_BUCKETNAME'] = 'serverless-llmaws-2'\n",
    "\n",
    "\n",
    "# \"StackId\": \"arn:aws:cloudformation:us-west-2:637423214227:stack/DLAITestingIAMRoleStack/9a13f640-d81f-11ef-aefe-02a4025b55b3\""
   ]
  },
  {
   "cell_type": "code",
   "execution_count": 36,
   "id": "0afe5997",
   "metadata": {
    "height": 268
   },
   "outputs": [],
   "source": [
    "loggingConfig = {\n",
    "    'cloudWatchConfig': {\n",
    "        'logGroupName': log_group_name,\n",
    "        'roleArn': os.environ['LOGGING_ROLE_ARN'],\n",
    "        'largeDataDeliveryS3Config': {\n",
    "            'bucketName': os.environ['LOGGING_BUCKETNAME'],\n",
    "            'keyPrefix': 'amazon_bedrock_large_data_delivery',\n",
    "        }\n",
    "    },\n",
    "    's3Config': {\n",
    "        'bucketName': os.environ['LOGGING_BUCKETNAME'],\n",
    "        'keyPrefix': 'amazon_bedrock_logs',\n",
    "    },\n",
    "    'textDataDeliveryEnabled': True,\n",
    "}"
   ]
  },
  {
   "cell_type": "code",
   "execution_count": 37,
   "id": "2ca33ffe",
   "metadata": {
    "height": 30
   },
   "outputs": [
    {
     "data": {
      "text/plain": [
       "{'ResponseMetadata': {'RequestId': '1195e384-fa83-4295-86c0-70dcc0eff4a2',\n",
       "  'HTTPStatusCode': 200,\n",
       "  'HTTPHeaders': {'date': 'Tue, 21 Jan 2025 18:33:58 GMT',\n",
       "   'content-type': 'application/json',\n",
       "   'content-length': '2',\n",
       "   'connection': 'keep-alive',\n",
       "   'x-amzn-requestid': '1195e384-fa83-4295-86c0-70dcc0eff4a2'},\n",
       "  'RetryAttempts': 0}}"
      ]
     },
     "execution_count": 37,
     "metadata": {},
     "output_type": "execute_result"
    }
   ],
   "source": [
    "bedrock.put_model_invocation_logging_configuration(loggingConfig=loggingConfig)"
   ]
  },
  {
   "cell_type": "code",
   "execution_count": 38,
   "id": "41fdb20d",
   "metadata": {
    "height": 30
   },
   "outputs": [
    {
     "data": {
      "text/plain": [
       "{'ResponseMetadata': {'RequestId': 'e0c9c2ad-ad11-49dd-a35d-4676d0ed2abf',\n",
       "  'HTTPStatusCode': 200,\n",
       "  'HTTPHeaders': {'date': 'Tue, 21 Jan 2025 18:34:03 GMT',\n",
       "   'content-type': 'application/json',\n",
       "   'content-length': '498',\n",
       "   'connection': 'keep-alive',\n",
       "   'x-amzn-requestid': 'e0c9c2ad-ad11-49dd-a35d-4676d0ed2abf'},\n",
       "  'RetryAttempts': 0},\n",
       " 'loggingConfig': {'cloudWatchConfig': {'logGroupName': '/my/amazon/bedrock/logs',\n",
       "   'roleArn': 'arn:aws:iam::637423214227:role/DLAITestingIAMRoleStack-MyIAMRole-dxN355NlNybH',\n",
       "   'largeDataDeliveryS3Config': {'bucketName': 'serverless-llmaws-2',\n",
       "    'keyPrefix': 'amazon_bedrock_large_data_delivery'}},\n",
       "  's3Config': {'bucketName': 'serverless-llmaws-2',\n",
       "   'keyPrefix': 'amazon_bedrock_logs'},\n",
       "  'textDataDeliveryEnabled': True,\n",
       "  'imageDataDeliveryEnabled': True,\n",
       "  'embeddingDataDeliveryEnabled': True}}"
      ]
     },
     "execution_count": 38,
     "metadata": {},
     "output_type": "execute_result"
    }
   ],
   "source": [
    "bedrock.get_model_invocation_logging_configuration()"
   ]
  },
  {
   "cell_type": "code",
   "execution_count": 39,
   "id": "95ebecb7",
   "metadata": {
    "height": 30
   },
   "outputs": [],
   "source": [
    "bedrock_runtime = boto3.client('bedrock-runtime', region_name=\"us-west-2\")"
   ]
  },
  {
   "cell_type": "code",
   "execution_count": 41,
   "id": "402c6311",
   "metadata": {
    "height": 421
   },
   "outputs": [
    {
     "name": "stdout",
     "output_type": "stream",
     "text": [
      "\n",
      "Foobar is a planet in the \"Star Wars\" universe, located in the Outer Rim Territories. It is a barren desert world, with no water or vegetation, and is home to a group of nomadic tribes who live in the canyons and caves of the planet's interior.\n",
      "\n",
      "The planet was first mentioned in the \"Star Wars\" novel \"A New Hope\" by George Lucas. In the novel, the planet is described as a barren wasteland, with only a few scattered settlements of small villages. The planet is home to a group of nomadic tribes, who are led by the Hutt crime lord Jabba the Hutt.\n",
      "\n",
      "In the \"Star Wars\" films, Foobar is depicted as a barren, desert world with a harsh climate and a harsh environment. The planet is home to a group of nomadic tribes, led by the Hutt crime lord Jabba the Hutt.\n",
      "\n",
      "One of the most interesting aspects of Foobar is its history. The planet was originally inhabited by a race of sentient plants, called the \"Jabba's Sith.\" The Jabba's Sith were a race of highly intelligent beings who were able to manipulate the plant life of the planet to their advantage. However, they were eventually overthrown by the Hutt crime lord Jabba the Hutt, who enslaved them and used them to mine the planet's resources.\n",
      "\n",
      "After the fall of the Jabba's Sith, Foobar became a lawless planet, with the Hutt crime lord Jabba the Hutt controlling most of the resources. However, the planet was also home to a group of rebels, who were led by a young Jedi named Luke Skywalker.\n",
      "\n",
      "Luke Skywalker was sent to Foobar by his master, Obi-Wan Kenobi, to investigate a disturbance on the planet's surface. He soon discovered that the Hutt crime lord Jabba the Hutt was using the planet's resources to build a massive weapons factory. Luke was able to defeat Jabba and his army, and the planet was saved from destruction.\n",
      "\n",
      "Since then, Foobar has been a peaceful planet, with the Hutt crime lord Jabba the Hutt no longer controlling most of the resources. The planet has become a popular destination for tourists, who come to see the planet's unique landscape and to experience the culture of the nomadic tribes.\n",
      "\n",
      "Foobar is also home to a variety of creatures, including the Rancor\n"
     ]
    }
   ],
   "source": [
    "prompt = \"Write an article about the fictional planet Foobar.\"\n",
    "\n",
    "kwargs = {\n",
    "    \"modelId\": \"amazon.titan-text-lite-v1\",\n",
    "    \"contentType\": \"application/json\",\n",
    "    \"accept\": \"*/*\",\n",
    "    \"body\": json.dumps(\n",
    "        {\n",
    "            \"inputText\": prompt,\n",
    "            \"textGenerationConfig\": {\n",
    "                \"maxTokenCount\": 512,\n",
    "                \"temperature\": 0.7,\n",
    "                \"topP\": 0.9\n",
    "            }\n",
    "        }\n",
    "    )\n",
    "}\n",
    "\n",
    "response = bedrock_runtime.invoke_model(**kwargs)\n",
    "response_body = json.loads(response.get('body').read())\n",
    "\n",
    "generation = response_body['results'][0]['outputText']\n",
    "\n",
    "print(generation)"
   ]
  },
  {
   "cell_type": "code",
   "execution_count": 42,
   "id": "68a7bab7",
   "metadata": {
    "height": 30
   },
   "outputs": [
    {
     "name": "stdout",
     "output_type": "stream",
     "text": [
      "Permissions are correctly set for Amazon Bedrock logs.\n",
      "-------------------------\n",
      "\n"
     ]
    }
   ],
   "source": [
    "cloudwatch.print_recent_logs(log_group_name)"
   ]
  },
  {
   "cell_type": "markdown",
   "id": "1118acfb",
   "metadata": {},
   "source": [
    "To review the logs within the AWS console, please use the following link to reference the steps outlined in the video:"
   ]
  },
  {
   "cell_type": "code",
   "execution_count": 43,
   "id": "2cf443d2",
   "metadata": {
    "height": 47
   },
   "outputs": [
    {
     "ename": "KeyError",
     "evalue": "'AWS_CONSOLE_URL'",
     "output_type": "error",
     "traceback": [
      "\u001b[0;31m---------------------------------------------------------------------------\u001b[0m",
      "\u001b[0;31mKeyError\u001b[0m                                  Traceback (most recent call last)",
      "Cell \u001b[0;32mIn[43], line 2\u001b[0m\n\u001b[1;32m      1\u001b[0m \u001b[38;5;28;01mfrom\u001b[39;00m\u001b[38;5;250m \u001b[39m\u001b[38;5;21;01mIPython\u001b[39;00m\u001b[38;5;21;01m.\u001b[39;00m\u001b[38;5;21;01mdisplay\u001b[39;00m\u001b[38;5;250m \u001b[39m\u001b[38;5;28;01mimport\u001b[39;00m HTML\n\u001b[0;32m----> 2\u001b[0m aws_url \u001b[38;5;241m=\u001b[39m \u001b[43mos\u001b[49m\u001b[38;5;241;43m.\u001b[39;49m\u001b[43menviron\u001b[49m\u001b[43m[\u001b[49m\u001b[38;5;124;43m'\u001b[39;49m\u001b[38;5;124;43mAWS_CONSOLE_URL\u001b[39;49m\u001b[38;5;124;43m'\u001b[39;49m\u001b[43m]\u001b[49m\n",
      "File \u001b[0;32m<frozen os>:714\u001b[0m, in \u001b[0;36m__getitem__\u001b[0;34m(self, key)\u001b[0m\n",
      "\u001b[0;31mKeyError\u001b[0m: 'AWS_CONSOLE_URL'"
     ]
    }
   ],
   "source": [
    "from IPython.display import HTML\n",
    "aws_url = os.environ['AWS_CONSOLE_URL']"
   ]
  },
  {
   "cell_type": "code",
   "execution_count": null,
   "id": "0b7c904c",
   "metadata": {
    "height": 47
   },
   "outputs": [],
   "source": [
    "HTML(f'<a href=\"{aws_url}\" target=\"_blank\">GO TO AWS CONSOLE</a>')\n"
   ]
  },
  {
   "cell_type": "code",
   "execution_count": null,
   "id": "68f7e294",
   "metadata": {},
   "outputs": [],
   "source": []
  }
 ],
 "metadata": {
  "kernelspec": {
   "display_name": "3.12.4",
   "language": "python",
   "name": "python3"
  },
  "language_info": {
   "codemirror_mode": {
    "name": "ipython",
    "version": 3
   },
   "file_extension": ".py",
   "mimetype": "text/x-python",
   "name": "python",
   "nbconvert_exporter": "python",
   "pygments_lexer": "ipython3",
   "version": "3.12.4"
  }
 },
 "nbformat": 4,
 "nbformat_minor": 5
}
